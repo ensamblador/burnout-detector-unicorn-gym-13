{
 "metadata": {
  "language_info": {
   "codemirror_mode": {
    "name": "ipython",
    "version": 3
   },
   "file_extension": ".py",
   "mimetype": "text/x-python",
   "name": "python",
   "nbconvert_exporter": "python",
   "pygments_lexer": "ipython3",
   "version": "3.8.6"
  },
  "orig_nbformat": 4,
  "kernelspec": {
   "name": "python3",
   "display_name": "Python 3.8.6 64-bit ('.venv': venv)"
  },
  "interpreter": {
   "hash": "6b0c9215a4fcfd6a81248ee3b508acac1ca04c0c62620aa4d47acc84a27c3613"
  }
 },
 "nbformat": 4,
 "nbformat_minor": 2,
 "cells": [
  {
   "cell_type": "code",
   "execution_count": 34,
   "metadata": {},
   "outputs": [],
   "source": [
    "import boto3\n",
    "import datetime\n",
    "from dateutil.parser import parse\n",
    "ddb = boto3.resource('dynamodb')\n",
    "table_name = 'Employee'\n",
    "table = ddb.Table(table_name)\n",
    "connect = boto3.client('connect')"
   ]
  },
  {
   "cell_type": "code",
   "execution_count": 65,
   "metadata": {},
   "outputs": [],
   "source": [
    "employees = table.scan()['Items']"
   ]
  },
  {
   "cell_type": "code",
   "execution_count": 66,
   "metadata": {},
   "outputs": [],
   "source": [
    "to_call = []\n",
    "now = datetime.datetime.now().astimezone()\n",
    "for employee in employees:\n",
    "    start_window = parse(employee['CallWindowStart'])\n",
    "    end_window = parse(employee['CallWindowEnd'])\n",
    "    if (now > start_window) and (now < end_window) and (employee['Calling'] == False):\n",
    "        to_call.append(employee)"
   ]
  },
  {
   "cell_type": "code",
   "execution_count": 67,
   "metadata": {},
   "outputs": [
    {
     "output_type": "execute_result",
     "data": {
      "text/plain": [
       "[]"
      ]
     },
     "metadata": {},
     "execution_count": 67
    }
   ],
   "source": [
    "to_call"
   ]
  },
  {
   "cell_type": "code",
   "execution_count": 52,
   "metadata": {},
   "outputs": [
    {
     "output_type": "stream",
     "name": "stdout",
     "text": [
      "2021-06-23 17:47:00.064283-04:00\n"
     ]
    }
   ],
   "source": [
    "now = datetime.datetime.now().astimezone()\n",
    "start_window = parse('2021-06-23T17:47:00-04:00')\n",
    "print(now)"
   ]
  },
  {
   "cell_type": "code",
   "execution_count": 53,
   "metadata": {},
   "outputs": [
    {
     "output_type": "execute_result",
     "data": {
      "text/plain": [
       "True"
      ]
     },
     "metadata": {},
     "execution_count": 53
    }
   ],
   "source": [
    "now > start_window"
   ]
  },
  {
   "cell_type": "code",
   "execution_count": 70,
   "metadata": {},
   "outputs": [],
   "source": [
    "instance_id = \"4061ae9c-11a9-468c-a298-318842091902\"\n",
    "contact_flow_id =\"6f023411-9715-4936-ad58-ee8367581b5b\"\n",
    "source_phone = \"+56800914991\"\n",
    "target_phone = \"+56974769647\"\n",
    "#target_phone = \"+56961754750\""
   ]
  },
  {
   "cell_type": "code",
   "execution_count": 71,
   "metadata": {},
   "outputs": [
    {
     "output_type": "execute_result",
     "data": {
      "text/plain": [
       "{'ResponseMetadata': {'RequestId': '0848b95d-8749-45a8-b62d-095e6fb6c06f',\n",
       "  'HTTPStatusCode': 200,\n",
       "  'HTTPHeaders': {'date': 'Wed, 23 Jun 2021 21:58:15 GMT',\n",
       "   'content-type': 'application/json',\n",
       "   'content-length': '52',\n",
       "   'connection': 'keep-alive',\n",
       "   'x-amzn-requestid': '0848b95d-8749-45a8-b62d-095e6fb6c06f',\n",
       "   'access-control-allow-origin': '*',\n",
       "   'access-control-allow-headers': 'Content-Type,X-Amz-Date,Authorization,X-Api-Key,X-Amz-Security-Token',\n",
       "   'x-amz-apigw-id': 'BZgymEQAoAMFfzw=',\n",
       "   'access-control-allow-methods': 'GET,OPTIONS,POST',\n",
       "   'access-control-expose-headers': 'x-amzn-RequestId,x-amzn-ErrorType',\n",
       "   'x-amzn-trace-id': 'Root=1-60d3ae76-0cf894dd199628de237423c7'},\n",
       "  'RetryAttempts': 0},\n",
       " 'ContactId': '0f7a1d59-fab4-4bed-8f32-479e1288a034'}"
      ]
     },
     "metadata": {},
     "execution_count": 71
    }
   ],
   "source": [
    "response = connect.start_outbound_voice_contact(\n",
    "    DestinationPhoneNumber=target_phone,\n",
    "    ContactFlowId=contact_flow_id,\n",
    "    InstanceId=instance_id,\n",
    "    SourcePhoneNumber=source_phone,\n",
    "    Attributes={\n",
    "        'EmployeeID': '82a9b509-0a9b-4ed4-adf6-3ae8846b747d',\n",
    "        'Name': 'Kakaroto'\n",
    "    }\n",
    ")\n",
    "response"
   ]
  },
  {
   "cell_type": "code",
   "execution_count": null,
   "metadata": {},
   "outputs": [],
   "source": []
  }
 ]
}